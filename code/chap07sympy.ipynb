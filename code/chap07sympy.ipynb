{
 "cells": [
  {
   "cell_type": "markdown",
   "metadata": {},
   "source": [
    "# Modeling and Simulation in Python\n",
    "\n",
    "Chapter 7: Thermal systems\n",
    "\n",
    "Copyright 2017 Allen Downey\n",
    "\n",
    "License: [Creative Commons Attribution 4.0 International](https://creativecommons.org/licenses/by/4.0)\n"
   ]
  },
  {
   "cell_type": "markdown",
   "metadata": {},
   "source": [
    "### Mixing liquids"
   ]
  },
  {
   "cell_type": "markdown",
   "metadata": {},
   "source": [
    "We can figure out the final temperature of a mixture by setting the total heat flow to zero and then solving for $T$."
   ]
  },
  {
   "cell_type": "code",
   "execution_count": 10,
   "metadata": {
    "collapsed": true
   },
   "outputs": [],
   "source": [
    "from sympy import *\n",
    "\n",
    "init_printing() "
   ]
  },
  {
   "cell_type": "code",
   "execution_count": 14,
   "metadata": {},
   "outputs": [
    {
     "data": {
      "image/png": "[encoded data removed]",
      "text/latex": [
       "$$C_{1} \\left(T - T_{1}\\right) + C_{2} \\left(T - T_{2}\\right) = 0$$"
      ],
      "text/plain": [
       "C₁⋅(T - T₁) + C₂⋅(T - T₂) = 0"
      ]
     },
     "execution_count": 14,
     "metadata": {},
     "output_type": "execute_result"
    }
   ],
   "source": [
    "C1, C2, T1, T2, T = symbols('C1 C2 T1 T2 T')\n",
    "\n",
    "eq = Eq(C1 * (T - T1) + C2 * (T - T2), 0)\n",
    "eq"
   ]
  },
  {
   "cell_type": "code",
   "execution_count": 15,
   "metadata": {},
   "outputs": [
    {
     "data": {
      "image/png": "[encoded data removed]",
      "text/latex": [
       "$$\\left [ \\frac{C_{1} T_{1} + C_{2} T_{2}}{C_{1} + C_{2}}\\right ]$$"
      ],
      "text/plain": [
       "⎡C₁⋅T₁ + C₂⋅T₂⎤\n",
       "⎢─────────────⎥\n",
       "⎣   C₁ + C₂   ⎦"
      ]
     },
     "execution_count": 15,
     "metadata": {},
     "output_type": "execute_result"
    }
   ],
   "source": [
    "solve(eq, T)"
   ]
  },
  {
   "cell_type": "markdown",
   "metadata": {},
   "source": [
    "### Analysis"
   ]
  },
  {
   "cell_type": "markdown",
   "metadata": {},
   "source": [
    "We can use SymPy to solve the cooling differential equation."
   ]
  },
  {
   "cell_type": "code",
   "execution_count": 19,
   "metadata": {},
   "outputs": [
    {
     "data": {
      "image/png": "[encoded data removed]",
      "text/latex": [
       "$$\\frac{d}{d t} T{\\left (t \\right )} = - r \\left(- T_{env} + T{\\left (t \\right )}\\right)$$"
      ],
      "text/plain": [
       "d                           \n",
       "──(T(t)) = -r⋅(-Tₑₙᵥ + T(t))\n",
       "dt                          "
      ]
     },
     "execution_count": 19,
     "metadata": {},
     "output_type": "execute_result"
    }
   ],
   "source": [
    "T_init, T_env, r, t = symbols('T_init T_env r t')\n",
    "T = Function('T')\n",
    "\n",
    "eqn = Eq(diff(T(t), t), -r * (T(t) - T_env))\n",
    "eqn"
   ]
  },
  {
   "cell_type": "raw",
   "metadata": {},
   "source": [
    "Here's the general solution:"
   ]
  },
  {
   "cell_type": "code",
   "execution_count": 20,
   "metadata": {},
   "outputs": [
    {
     "data": {
      "image/png": "[encoded data removed]",
      "text/latex": [
       "$$T{\\left (t \\right )} = C_{1} e^{- r t} + T_{env}$$"
      ],
      "text/plain": [
       "           -r⋅t       \n",
       "T(t) = C₁⋅ℯ     + Tₑₙᵥ"
      ]
     },
     "execution_count": 20,
     "metadata": {},
     "output_type": "execute_result"
    }
   ],
   "source": [
    "solution_eq = dsolve(eqn)\n",
    "solution_eq"
   ]
  },
  {
   "cell_type": "code",
   "execution_count": 21,
   "metadata": {},
   "outputs": [
    {
     "data": {
      "image/png": "[encoded data removed]",
      "text/latex": [
       "$$C_{1} e^{- r t} + T_{env}$$"
      ],
      "text/plain": [
       "    -r⋅t       \n",
       "C₁⋅ℯ     + Tₑₙᵥ"
      ]
     },
     "execution_count": 21,
     "metadata": {},
     "output_type": "execute_result"
    }
   ],
   "source": [
    "general = solution_eq.rhs\n",
    "general"
   ]
  },
  {
   "cell_type": "markdown",
   "metadata": {},
   "source": [
    "We can use the initial condition to solve for $C_1$.  First we evaluate the general solution at $t=0$"
   ]
  },
  {
   "cell_type": "code",
   "execution_count": 22,
   "metadata": {},
   "outputs": [
    {
     "data": {
      "image/png": "[encoded data removed]",
      "text/latex": [
       "$$C_{1} + T_{env}$$"
      ],
      "text/plain": [
       "C₁ + Tₑₙᵥ"
      ]
     },
     "execution_count": 22,
     "metadata": {},
     "output_type": "execute_result"
    }
   ],
   "source": [
    "at0 = general.subs(t, 0)\n",
    "at0"
   ]
  },
  {
   "cell_type": "markdown",
   "metadata": {},
   "source": [
    "Now we set $T(0) = T_{init}$ and solve for $C_1$"
   ]
  },
  {
   "cell_type": "code",
   "execution_count": 23,
   "metadata": {},
   "outputs": [
    {
     "data": {
      "image/png": "[encoded data removed]",
      "text/latex": [
       "$$- T_{env} + T_{init}$$"
      ],
      "text/plain": [
       "-Tₑₙᵥ + Tᵢₙᵢₜ"
      ]
     },
     "execution_count": 23,
     "metadata": {},
     "output_type": "execute_result"
    }
   ],
   "source": [
    "solutions = solve(Eq(at0, T_init), C1)\n",
    "value_of_C1 = solutions[0]\n",
    "value_of_C1"
   ]
  },
  {
   "cell_type": "markdown",
   "metadata": {},
   "source": [
    "Then we plug the result into the general solution to get the particular solution:"
   ]
  },
  {
   "cell_type": "code",
   "execution_count": 24,
   "metadata": {},
   "outputs": [
    {
     "data": {
      "image/png": "[encoded data removed]",
      "text/latex": [
       "$$T_{env} + \\left(- T_{env} + T_{init}\\right) e^{- r t}$$"
      ],
      "text/plain": [
       "                        -r⋅t\n",
       "Tₑₙᵥ + (-Tₑₙᵥ + Tᵢₙᵢₜ)⋅ℯ    "
      ]
     },
     "execution_count": 24,
     "metadata": {},
     "output_type": "execute_result"
    }
   ],
   "source": [
    "particular = general.subs(C1, value_of_C1)\n",
    "particular"
   ]
  },
  {
   "cell_type": "markdown",
   "metadata": {},
   "source": [
    "We use a similar process to estimate $r$ based on the observation $T(t_{end}) = T_{end}$"
   ]
  },
  {
   "cell_type": "code",
   "execution_count": 25,
   "metadata": {
    "collapsed": true
   },
   "outputs": [],
   "source": [
    "t_end, T_end = symbols('t_end T_end')"
   ]
  },
  {
   "cell_type": "markdown",
   "metadata": {},
   "source": [
    "Here's the particular solution evaluated at $t_{end}$"
   ]
  },
  {
   "cell_type": "code",
   "execution_count": 26,
   "metadata": {},
   "outputs": [
    {
     "data": {
      "image/png": "[encoded data removed]",
      "text/latex": [
       "$$T_{env} + \\left(- T_{env} + T_{init}\\right) e^{- r t_{end}}$$"
      ],
      "text/plain": [
       "                        -r⋅t_end\n",
       "Tₑₙᵥ + (-Tₑₙᵥ + Tᵢₙᵢₜ)⋅ℯ        "
      ]
     },
     "execution_count": 26,
     "metadata": {},
     "output_type": "execute_result"
    }
   ],
   "source": [
    "at_end = particular.subs(t, t_end)\n",
    "at_end"
   ]
  },
  {
   "cell_type": "markdown",
   "metadata": {},
   "source": [
    "Now we set $T(t_{end}) = T_{end}$ and solve for $r$"
   ]
  },
  {
   "cell_type": "code",
   "execution_count": 27,
   "metadata": {},
   "outputs": [
    {
     "data": {
      "image/png": "[encoded data removed]",
      "text/latex": [
       "$$\\frac{1}{t_{end}} \\log{\\left (\\frac{- T_{env} + T_{init}}{T_{end} - T_{env}} \\right )}$$"
      ],
      "text/plain": [
       "   ⎛-Tₑₙᵥ + Tᵢₙᵢₜ⎞\n",
       "log⎜─────────────⎟\n",
       "   ⎝ T_end - Tₑₙᵥ⎠\n",
       "──────────────────\n",
       "      t_end       "
      ]
     },
     "execution_count": 27,
     "metadata": {},
     "output_type": "execute_result"
    }
   ],
   "source": [
    "solutions = solve(Eq(at_end, T_end), r)\n",
    "value_of_r = solutions[0]\n",
    "value_of_r"
   ]
  },
  {
   "cell_type": "markdown",
   "metadata": {},
   "source": [
    "We can use `evalf` to plug in numbers for the symbols.  The result is a SymPy float, which we have to convert to a Python float."
   ]
  },
  {
   "cell_type": "code",
   "execution_count": 28,
   "metadata": {},
   "outputs": [
    {
     "data": {
      "text/plain": [
       "sympy.core.numbers.Float"
      ]
     },
     "execution_count": 28,
     "metadata": {},
     "output_type": "execute_result"
    }
   ],
   "source": [
    "subs = dict(t_end=30, T_end=70, T_init=90, T_env=22)\n",
    "r_coffee2 = value_of_r.evalf(subs=subs)\n",
    "type(r_coffee2)"
   ]
  },
  {
   "cell_type": "code",
   "execution_count": 14,
   "metadata": {},
   "outputs": [
    {
     "data": {
      "image/png": "[encoded data removed]",
      "text/latex": [
       "$$0.011610223142273859$$"
      ],
      "text/plain": [
       "0.011610223142273859"
      ]
     },
     "execution_count": 14,
     "metadata": {},
     "output_type": "execute_result"
    }
   ],
   "source": [
    "r_coffee2 = float(r_coffee2)\n",
    "r_coffee2"
   ]
  }
 ],
 "metadata": {
  "kernelspec": {
   "display_name": "Python 3",
   "language": "python",
   "name": "python3"
  },
  "language_info": {
   "codemirror_mode": {
    "name": "ipython",
    "version": 3
   },
   "file_extension": ".py",
   "mimetype": "text/x-python",
   "name": "python",
   "nbconvert_exporter": "python",
   "pygments_lexer": "ipython3",
   "version": "3.6.1"
  }
 },
 "nbformat": 4,
 "nbformat_minor": 1
}
