{
 "cells": [
  {
   "cell_type": "code",
   "execution_count": 37,
   "metadata": {
    "collapsed": true
   },
   "outputs": [],
   "source": [
    "# If you want the figures to appear in the notebook, \n",
    "# and you want to interact with them, use\n",
    "# %matplotlib notebook\n",
    "\n",
    "# If you want the figures to appear in the notebook, \n",
    "# and you don't want to interact with them, use\n",
    "# %matplotlib inline\n",
    "\n",
    "# If you want the figures to appear in separate windows, use\n",
    "# %matplotlib qt5\n",
    "\n",
    "# To switch from one to another, you have to select Kernel->Restart\n",
    "\n",
    "%matplotlib inline\n",
    "\n",
    "from modsim import *"
   ]
  },
  {
   "cell_type": "code",
   "execution_count": 38,
   "metadata": {
    "collapsed": true
   },
   "outputs": [],
   "source": [
    "init = State(S=1000, I=1, R=0, Q=0)\n",
    "f=sum(init)"
   ]
  },
  {
   "cell_type": "code",
   "execution_count": 39,
   "metadata": {},
   "outputs": [
    {
     "data": {
      "text/html": [
       "<div>\n",
       "<style>\n",
       "    .dataframe thead tr:only-child th {\n",
       "        text-align: right;\n",
       "    }\n",
       "\n",
       "    .dataframe thead th {\n",
       "        text-align: left;\n",
       "    }\n",
       "\n",
       "    .dataframe tbody tr th {\n",
       "        vertical-align: top;\n",
       "    }\n",
       "</style>\n",
       "<table border=\"1\" class=\"dataframe\">\n",
       "  <thead>\n",
       "    <tr style=\"text-align: right;\">\n",
       "      <th></th>\n",
       "      <th>value</th>\n",
       "    </tr>\n",
       "  </thead>\n",
       "  <tbody>\n",
       "    <tr>\n",
       "      <th>S</th>\n",
       "      <td>0.999001</td>\n",
       "    </tr>\n",
       "    <tr>\n",
       "      <th>I</th>\n",
       "      <td>0.000999</td>\n",
       "    </tr>\n",
       "    <tr>\n",
       "      <th>R</th>\n",
       "      <td>0.000000</td>\n",
       "    </tr>\n",
       "    <tr>\n",
       "      <th>Q</th>\n",
       "      <td>0.000000</td>\n",
       "    </tr>\n",
       "  </tbody>\n",
       "</table>\n",
       "</div>"
      ],
      "text/plain": [
       "S    0.999001\n",
       "I    0.000999\n",
       "R    0.000000\n",
       "Q    0.000000\n",
       "dtype: float64"
      ]
     },
     "execution_count": 39,
     "metadata": {},
     "output_type": "execute_result"
    }
   ],
   "source": [
    "init /= sum(init)\n",
    "init"
   ]
  },
  {
   "cell_type": "code",
   "execution_count": 40,
   "metadata": {
    "collapsed": true
   },
   "outputs": [],
   "source": [
    "def make_system(beta, gamma,omega,t_end):\n",
    "    \"\"\"Make a system object for the SIR model.\n",
    "    \n",
    "    beta: contact rate in days\n",
    "    gamma: recovery rate in days\n",
    "    \n",
    "    returns: System object\n",
    "    \"\"\"\n",
    "    init = State(S=1000, I=1, R=0, Q=0)\n",
    "    f=sum(init)\n",
    "    init /= sum(init)\n",
    "\n",
    "    t0 = 0\n",
    "    \n",
    "\n",
    "    return System(init=init, t0=t0, \n",
    "                  beta=beta, gamma=gamma, omega=omega, t_end=t_end)"
   ]
  },
  {
   "cell_type": "code",
   "execution_count": 41,
   "metadata": {
    "collapsed": true
   },
   "outputs": [],
   "source": [
    "tc = 0.35      # time between contacts in days \n",
    "tr = 3  # Infectious period in days\n",
    "tq =4 # recovery time in days\n",
    "t_end=20\n",
    "beta = 1 / tc      # contact rate in per day\n",
    "gamma = 1 / tr \n",
    "omega = 1/tq  # recovery rate in per day\n",
    "\n",
    "system = make_system(beta, gamma,omega,t_end)"
   ]
  },
  {
   "cell_type": "code",
   "execution_count": 42,
   "metadata": {
    "collapsed": true
   },
   "outputs": [],
   "source": [
    "def update1(state, system):\n",
    "    \"\"\"Update the SIR model.\n",
    "    \n",
    "    state: State with variables S, I, R\n",
    "    system: System with beta and gamma\n",
    "    \n",
    "    returns: State object\n",
    "    \"\"\"\n",
    "    s, i, r, q = state\n",
    "    quarentine = system.gamma * i\n",
    "    \n",
    "    recovered = system.omega * q \n",
    "    \n",
    "    i -= quarentine\n",
    "    q += quarentine- recovered\n",
    "    r += recovered\n",
    "    \n",
    "    d=0\n",
    "    x=0\n",
    "    while d < i:\n",
    "        while x < (1/beta*state.S):\n",
    "            \n",
    "            if flip(0.95*0.05):\n",
    "                if s > 0:\n",
    "                    i =+1\n",
    "                    s =-1\n",
    "                else:\n",
    "                    i=0\n",
    "            x=x+1\n",
    "\n",
    "            \n",
    "        d=d+1\n",
    "        \n",
    "    \n",
    "   \n",
    "   \n",
    "       \n",
    "    return State(S=s, I=i, R=r, Q=q)"
   ]
  },
  {
   "cell_type": "code",
   "execution_count": 43,
   "metadata": {},
   "outputs": [
    {
     "data": {
      "text/html": [
       "<div>\n",
       "<style>\n",
       "    .dataframe thead tr:only-child th {\n",
       "        text-align: right;\n",
       "    }\n",
       "\n",
       "    .dataframe thead th {\n",
       "        text-align: left;\n",
       "    }\n",
       "\n",
       "    .dataframe tbody tr th {\n",
       "        vertical-align: top;\n",
       "    }\n",
       "</style>\n",
       "<table border=\"1\" class=\"dataframe\">\n",
       "  <thead>\n",
       "    <tr style=\"text-align: right;\">\n",
       "      <th></th>\n",
       "      <th>value</th>\n",
       "    </tr>\n",
       "  </thead>\n",
       "  <tbody>\n",
       "    <tr>\n",
       "      <th>S</th>\n",
       "      <td>0.999001</td>\n",
       "    </tr>\n",
       "    <tr>\n",
       "      <th>I</th>\n",
       "      <td>0.000666</td>\n",
       "    </tr>\n",
       "    <tr>\n",
       "      <th>R</th>\n",
       "      <td>0.000000</td>\n",
       "    </tr>\n",
       "    <tr>\n",
       "      <th>Q</th>\n",
       "      <td>0.000333</td>\n",
       "    </tr>\n",
       "  </tbody>\n",
       "</table>\n",
       "</div>"
      ],
      "text/plain": [
       "S    0.999001\n",
       "I    0.000666\n",
       "R    0.000000\n",
       "Q    0.000333\n",
       "dtype: float64"
      ]
     },
     "execution_count": 43,
     "metadata": {},
     "output_type": "execute_result"
    }
   ],
   "source": [
    "state = update1(init, system)\n",
    "state\n"
   ]
  },
  {
   "cell_type": "code",
   "execution_count": 44,
   "metadata": {
    "collapsed": true
   },
   "outputs": [],
   "source": [
    "def run_simulation(system, update_func):\n",
    "    \"\"\"Runs a simulation of the system.\n",
    "    \n",
    "    system: System object\n",
    "    update_func: function that updates state\n",
    "    \n",
    "    returns: State object for final state\n",
    "    \"\"\"\n",
    "    state = system.init\n",
    "    for t in linrange(system.t0, system.t_end):\n",
    "        state = update_func(state, system)\n",
    "    return state"
   ]
  },
  {
   "cell_type": "code",
   "execution_count": 45,
   "metadata": {},
   "outputs": [
    {
     "data": {
      "text/html": [
       "<div>\n",
       "<style>\n",
       "    .dataframe thead tr:only-child th {\n",
       "        text-align: right;\n",
       "    }\n",
       "\n",
       "    .dataframe thead th {\n",
       "        text-align: left;\n",
       "    }\n",
       "\n",
       "    .dataframe tbody tr th {\n",
       "        vertical-align: top;\n",
       "    }\n",
       "</style>\n",
       "<table border=\"1\" class=\"dataframe\">\n",
       "  <thead>\n",
       "    <tr style=\"text-align: right;\">\n",
       "      <th></th>\n",
       "      <th>value</th>\n",
       "    </tr>\n",
       "  </thead>\n",
       "  <tbody>\n",
       "    <tr>\n",
       "      <th>S</th>\n",
       "      <td>-1.000000</td>\n",
       "    </tr>\n",
       "    <tr>\n",
       "      <th>I</th>\n",
       "      <td>0.000451</td>\n",
       "    </tr>\n",
       "    <tr>\n",
       "      <th>R</th>\n",
       "      <td>0.984993</td>\n",
       "    </tr>\n",
       "    <tr>\n",
       "      <th>Q</th>\n",
       "      <td>0.015111</td>\n",
       "    </tr>\n",
       "  </tbody>\n",
       "</table>\n",
       "</div>"
      ],
      "text/plain": [
       "S   -1.000000\n",
       "I    0.000451\n",
       "R    0.984993\n",
       "Q    0.015111\n",
       "dtype: float64"
      ]
     },
     "execution_count": 45,
     "metadata": {},
     "output_type": "execute_result"
    }
   ],
   "source": [
    "run_simulation(system, update1)"
   ]
  },
  {
   "cell_type": "code",
   "execution_count": 46,
   "metadata": {
    "collapsed": true
   },
   "outputs": [],
   "source": [
    "def run_simulation(system, update_func):\n",
    "    \"\"\"Runs a simulation of the system.\n",
    "    \n",
    "    Add three Series objects to the System: S, I, R\n",
    "    \n",
    "    system: System object\n",
    "    update_func: function that updates state\n",
    "    \"\"\"\n",
    "    S = TimeSeries()\n",
    "    I = TimeSeries()\n",
    "    R = TimeSeries()\n",
    "    Q=TimeSeries()\n",
    "\n",
    "    state = system.init\n",
    "    t0 = system.t0\n",
    "    S[t0], I[t0], R[t0],Q[t0] = state\n",
    "    \n",
    "    for t in linrange(system.t0, system.t_end):\n",
    "        state = update_func(state, system)\n",
    "        S[t+1], I[t+1], R[t+1], Q[t+1] = state\n",
    "    \n",
    "    system.S = S\n",
    "    system.I = I\n",
    "    system.R = R\n",
    "    system.Q=Q"
   ]
  },
  {
   "cell_type": "code",
   "execution_count": 47,
   "metadata": {},
   "outputs": [
    {
     "ename": "AttributeError",
     "evalue": "'System' object has no attribute 'R'",
     "output_type": "error",
     "traceback": [
      "\u001b[1;31m---------------------------------------------------------------------------\u001b[0m",
      "\u001b[1;31mAttributeError\u001b[0m                            Traceback (most recent call last)",
      "\u001b[1;32m<ipython-input-47-08a75b6942e5>\u001b[0m in \u001b[0;36m<module>\u001b[1;34m()\u001b[0m\n\u001b[1;32m----> 1\u001b[1;33m \u001b[0msystem\u001b[0m\u001b[1;33m.\u001b[0m\u001b[0mR\u001b[0m\u001b[1;33m\u001b[0m\u001b[0m\n\u001b[0m",
      "\u001b[1;32mC:\\ProgramData\\Miniconda3\\lib\\site-packages\\pandas\\core\\generic.py\u001b[0m in \u001b[0;36m__getattr__\u001b[1;34m(self, name)\u001b[0m\n\u001b[0;32m   3079\u001b[0m             \u001b[1;32mif\u001b[0m \u001b[0mname\u001b[0m \u001b[1;32min\u001b[0m \u001b[0mself\u001b[0m\u001b[1;33m.\u001b[0m\u001b[0m_info_axis\u001b[0m\u001b[1;33m:\u001b[0m\u001b[1;33m\u001b[0m\u001b[0m\n\u001b[0;32m   3080\u001b[0m                 \u001b[1;32mreturn\u001b[0m \u001b[0mself\u001b[0m\u001b[1;33m[\u001b[0m\u001b[0mname\u001b[0m\u001b[1;33m]\u001b[0m\u001b[1;33m\u001b[0m\u001b[0m\n\u001b[1;32m-> 3081\u001b[1;33m             \u001b[1;32mreturn\u001b[0m \u001b[0mobject\u001b[0m\u001b[1;33m.\u001b[0m\u001b[0m__getattribute__\u001b[0m\u001b[1;33m(\u001b[0m\u001b[0mself\u001b[0m\u001b[1;33m,\u001b[0m \u001b[0mname\u001b[0m\u001b[1;33m)\u001b[0m\u001b[1;33m\u001b[0m\u001b[0m\n\u001b[0m\u001b[0;32m   3082\u001b[0m \u001b[1;33m\u001b[0m\u001b[0m\n\u001b[0;32m   3083\u001b[0m     \u001b[1;32mdef\u001b[0m \u001b[0m__setattr__\u001b[0m\u001b[1;33m(\u001b[0m\u001b[0mself\u001b[0m\u001b[1;33m,\u001b[0m \u001b[0mname\u001b[0m\u001b[1;33m,\u001b[0m \u001b[0mvalue\u001b[0m\u001b[1;33m)\u001b[0m\u001b[1;33m:\u001b[0m\u001b[1;33m\u001b[0m\u001b[0m\n",
      "\u001b[1;31mAttributeError\u001b[0m: 'System' object has no attribute 'R'"
     ]
    }
   ],
   "source": [
    "system.R"
   ]
  },
  {
   "cell_type": "code",
   "execution_count": 48,
   "metadata": {
    "collapsed": true
   },
   "outputs": [],
   "source": [
    "def plot_results(S, I, R,Q):\n",
    "    \"\"\"Plot the results of a SIR model.\n",
    "    \n",
    "    S: TimeSeries\n",
    "    I: TimeSeries\n",
    "    R: TimeSeries\n",
    "    \"\"\"\n",
    "    plot(S, '--', color='blue', label='Susceptible')\n",
    "    plot(I, '-', color='red', label='Infected')\n",
    "    plot(R, ':', color='green', label='Recovered')\n",
    "    plot(Q,':', color='yellow',label='Quarentined')\n",
    "    decorate(xlabel='Time (days)',\n",
    "             ylabel='Fraction of population')"
   ]
  },
  {
   "cell_type": "code",
   "execution_count": 14,
   "metadata": {},
   "outputs": [
    {
     "name": "stdout",
     "output_type": "stream",
     "text": [
      "Saving figure to file chap05-fig01.pdf\n",
      "0     1000.0\n",
      "1     1000.0\n",
      "2     1000.0\n",
      "3    -1001.0\n",
      "4    -1001.0\n",
      "5    -1001.0\n",
      "6    -1001.0\n",
      "7    -1001.0\n",
      "8    -1001.0\n",
      "9    -1001.0\n",
      "10   -1001.0\n",
      "11   -1001.0\n",
      "12   -1001.0\n",
      "13   -1001.0\n",
      "14   -1001.0\n",
      "15   -1001.0\n",
      "16   -1001.0\n",
      "17   -1001.0\n",
      "18   -1001.0\n",
      "19   -1001.0\n",
      "20   -1001.0\n",
      "21   -1001.0\n",
      "dtype: float64\n"
     ]
    },
    {
     "data": {
      "image/png": "[encoded data removed]",
      "text/plain": [
       "<matplotlib.figure.Figure at 0x176d6097048>"
      ]
     },
     "metadata": {},
     "output_type": "display_data"
    }
   ],
   "source": [
    "tc = 0.35      # time between contacts in days \n",
    "tr = 2.5  # Infectious period in days\n",
    "tq =4 # recovery time in days\n",
    "t_end=20\n",
    "beta = 1 / tc      # contact rate in per day\n",
    "gamma = 1 / tr \n",
    "omega = 1/tq  # recovery rate in per day\n",
    "\n",
    "system = make_system(beta, gamma,omega,t_end)\n",
    "run_simulation(system, update1)\n",
    "plot_results(system.S, system.I, system.R,system.Q)\n",
    "savefig('chap05-fig01.pdf')\n",
    "print(system.S*f)\n"
   ]
  },
  {
   "cell_type": "code",
   "execution_count": 15,
   "metadata": {},
   "outputs": [
    {
     "ename": "SyntaxError",
     "evalue": "invalid syntax (<ipython-input-15-9e97b714dbd8>, line 1)",
     "output_type": "error",
     "traceback": [
      "\u001b[1;36m  File \u001b[1;32m\"<ipython-input-15-9e97b714dbd8>\"\u001b[1;36m, line \u001b[1;32m1\u001b[0m\n\u001b[1;33m    even if 100% percent of the population was vaccinated with 1 dose of vaccine there is a 10%+ chance that 1 person with measeles could trigger an outbreak.\u001b[0m\n\u001b[1;37m                          ^\u001b[0m\n\u001b[1;31mSyntaxError\u001b[0m\u001b[1;31m:\u001b[0m invalid syntax\n"
     ]
    }
   ],
   "source": [
    "even if 100% percent of the population was vaccinated with 1 dose of vaccine there is a 10%+ chance that 1 person with measeles could trigger an outbreak."
   ]
  },
  {
   "cell_type": "code",
   "execution_count": 16,
   "metadata": {
    "collapsed": true
   },
   "outputs": [],
   "source": [
    "def run_simulation(system, update_func):\n",
    "    \"\"\"Runs a simulation of the system.\n",
    "    \n",
    "    Add a DataFrame to the System: results\n",
    "    \n",
    "    system: System object\n",
    "    update_func: function that updates state\n",
    "    \"\"\"\n",
    "    frame = DataFrame(columns=system.init.index)\n",
    "    frame.loc[system.t0] = system.init\n",
    "    \n",
    "    for t in linrange(system.t0, system.t_end):\n",
    "        frame.loc[t+1] = update_func(frame.loc[t], system)\n",
    "    \n",
    "    system.results = frame"
   ]
  },
  {
   "cell_type": "code",
   "execution_count": 17,
   "metadata": {},
   "outputs": [
    {
     "data": {
      "text/html": [
       "<div>\n",
       "<style>\n",
       "    .dataframe thead tr:only-child th {\n",
       "        text-align: right;\n",
       "    }\n",
       "\n",
       "    .dataframe thead th {\n",
       "        text-align: left;\n",
       "    }\n",
       "\n",
       "    .dataframe tbody tr th {\n",
       "        vertical-align: top;\n",
       "    }\n",
       "</style>\n",
       "<table border=\"1\" class=\"dataframe\">\n",
       "  <thead>\n",
       "    <tr style=\"text-align: right;\">\n",
       "      <th></th>\n",
       "      <th>S</th>\n",
       "      <th>I</th>\n",
       "      <th>R</th>\n",
       "      <th>Q</th>\n",
       "    </tr>\n",
       "  </thead>\n",
       "  <tbody>\n",
       "    <tr>\n",
       "      <th>0</th>\n",
       "      <td>0.999001</td>\n",
       "      <td>0.000999</td>\n",
       "      <td>0.000000</td>\n",
       "      <td>0.000000</td>\n",
       "    </tr>\n",
       "    <tr>\n",
       "      <th>1</th>\n",
       "      <td>0.999001</td>\n",
       "      <td>0.000599</td>\n",
       "      <td>0.000000</td>\n",
       "      <td>0.000400</td>\n",
       "    </tr>\n",
       "    <tr>\n",
       "      <th>2</th>\n",
       "      <td>0.999001</td>\n",
       "      <td>0.000360</td>\n",
       "      <td>0.000100</td>\n",
       "      <td>0.000539</td>\n",
       "    </tr>\n",
       "    <tr>\n",
       "      <th>3</th>\n",
       "      <td>0.999001</td>\n",
       "      <td>0.000216</td>\n",
       "      <td>0.000235</td>\n",
       "      <td>0.000548</td>\n",
       "    </tr>\n",
       "    <tr>\n",
       "      <th>4</th>\n",
       "      <td>0.999001</td>\n",
       "      <td>0.000129</td>\n",
       "      <td>0.000372</td>\n",
       "      <td>0.000498</td>\n",
       "    </tr>\n",
       "  </tbody>\n",
       "</table>\n",
       "</div>"
      ],
      "text/plain": [
       "          S         I         R         Q\n",
       "0  0.999001  0.000999  0.000000  0.000000\n",
       "1  0.999001  0.000599  0.000000  0.000400\n",
       "2  0.999001  0.000360  0.000100  0.000539\n",
       "3  0.999001  0.000216  0.000235  0.000548\n",
       "4  0.999001  0.000129  0.000372  0.000498"
      ]
     },
     "execution_count": 17,
     "metadata": {},
     "output_type": "execute_result"
    }
   ],
   "source": [
    "tc = 3      # time between contacts in days \n",
    "tr = 4      # recovery time in days\n",
    "tq=4\n",
    "beta = 1 / tc      # contact rate in per day\n",
    "gamma = 1 / tr  \n",
    "omega=1/tq# recovery rate in per day\n",
    "t_end=15\n",
    "\n",
    "sir = make_system(beta, gamma,omega,t_end)\n",
    "run_simulation(system, update1)\n",
    "system.results.head()"
   ]
  },
  {
   "cell_type": "code",
   "execution_count": 18,
   "metadata": {},
   "outputs": [
    {
     "ename": "SyntaxError",
     "evalue": "invalid syntax (<ipython-input-18-fdbf24281142>, line 2)",
     "output_type": "error",
     "traceback": [
      "\u001b[1;36m  File \u001b[1;32m\"<ipython-input-18-fdbf24281142>\"\u001b[1;36m, line \u001b[1;32m2\u001b[0m\n\u001b[1;33m    plot_results(frame.S, frame.I, frame.R,frame.Qdef calc_total_infected(system):\u001b[0m\n\u001b[1;37m                                                                        ^\u001b[0m\n\u001b[1;31mSyntaxError\u001b[0m\u001b[1;31m:\u001b[0m invalid syntax\n"
     ]
    }
   ],
   "source": [
    "frame = system.results\n",
    "plot_results(frame.S, frame.I, frame.R,frame.Qdef calc_total_infected(system):\n",
    "    \"\"\"Fraction of population infected during the simulation.\n",
    "    \n",
    "    system: System object with results.\n",
    "    \n",
    "    returns: fraction of population\n",
    "    \"\"\"\n",
    "    frame = system.results\n",
    "    return frame.S[system.t0] - frame.S[system.t_end])"
   ]
  },
  {
   "cell_type": "code",
   "execution_count": 19,
   "metadata": {
    "collapsed": true
   },
   "outputs": [],
   "source": [
    "def calc_total_infected(system):\n",
    "    \"\"\"Fraction of population infected during the simulation.\n",
    "    \n",
    "    system: System object with results.\n",
    "    \n",
    "    returns: fraction of population\n",
    "    \"\"\"\n",
    "    frame = system.results\n",
    "    return frame.S[system.t0] - frame.S[system.t_end]"
   ]
  },
  {
   "cell_type": "code",
   "execution_count": 20,
   "metadata": {},
   "outputs": [
    {
     "name": "stdout",
     "output_type": "stream",
     "text": [
      "3 0.25 1.999000999\n"
     ]
    }
   ],
   "source": [
    "system.beta = 3\n",
    "system.gamma = 0.25\n",
    "run_simulation(system, update1)\n",
    "print(system.beta, system.gamma, calc_total_infected(system))"
   ]
  },
  {
   "cell_type": "code",
   "execution_count": 21,
   "metadata": {
    "collapsed": true
   },
   "outputs": [],
   "source": [
    "def fraction_sick_at_peak(system):\n",
    "    frame = system.results\n",
    "    return frame.I.max()"
   ]
  },
  {
   "cell_type": "code",
   "execution_count": 22,
   "metadata": {
    "collapsed": true
   },
   "outputs": [],
   "source": [
    "def time_of_peak(system):\n",
    "    frame = system.results\n",
    "    return frame.I.idxmax()"
   ]
  },
  {
   "cell_type": "code",
   "execution_count": 23,
   "metadata": {
    "collapsed": true
   },
   "outputs": [],
   "source": [
    "def sick_at_end(system):\n",
    "    frame = system.results\n",
    "    return frame.I[system.t_end]"
   ]
  },
  {
   "cell_type": "code",
   "execution_count": 24,
   "metadata": {},
   "outputs": [
    {
     "data": {
      "text/plain": [
       "0.010022595757618546"
      ]
     },
     "execution_count": 24,
     "metadata": {},
     "output_type": "execute_result"
    }
   ],
   "source": [
    "sick_at_end(system)"
   ]
  },
  {
   "cell_type": "code",
   "execution_count": 25,
   "metadata": {
    "collapsed": true
   },
   "outputs": [],
   "source": [
    "def add_immunization(system, fraction1,fraction2):\n",
    "    \"\"\"Immunize a fraction of the population.\n",
    "    \n",
    "    Moves the given fraction from S to R.\n",
    "    \n",
    "    system: System object\n",
    "    fraction: number from 0 to 1\n",
    "    \"\"\"\n",
    "    system.init.S -= (fraction1*.99)+(fraction2*0.95)\n",
    "    system.init.R += (fraction1*.99)+(fraction2*0.95)"
   ]
  },
  {
   "cell_type": "code",
   "execution_count": 26,
   "metadata": {},
   "outputs": [
    {
     "data": {
      "text/plain": [
       "(2.857142857142857, 0.3333333333333333)"
      ]
     },
     "execution_count": 26,
     "metadata": {},
     "output_type": "execute_result"
    }
   ],
   "source": [
    "tc = 0.35     # time between contacts in days \n",
    "\n",
    "tr = 3      # infectious  time in days\n",
    "tq = 4\n",
    "beta = 1 / tc      # contact rate in per day\n",
    "gamma = 1 / tr  \n",
    "omega=1/tq\n",
    "t_end=15# recovery rate in per day\n",
    "\n",
    "system = make_system(beta, gamma,omega,t_end)\n",
    "system.beta, system.gamma"
   ]
  },
  {
   "cell_type": "code",
   "execution_count": 27,
   "metadata": {},
   "outputs": [
    {
     "data": {
      "text/plain": [
       "0.0"
      ]
     },
     "execution_count": 27,
     "metadata": {},
     "output_type": "execute_result"
    }
   ],
   "source": [
    "run_simulation(system, update1)\n",
    "calc_total_infected(system)"
   ]
  },
  {
   "cell_type": "code",
   "execution_count": 28,
   "metadata": {},
   "outputs": [
    {
     "data": {
      "text/plain": [
       "1.4050009990009991"
      ]
     },
     "execution_count": 28,
     "metadata": {},
     "output_type": "execute_result"
    }
   ],
   "source": [
    "system2 = make_system(beta, gamma,omega,t_end)\n",
    "add_immunization(system2, 0.6,0.0)\n",
    "run_simulation(system2, update1)\n",
    "calc_total_infected(system2)"
   ]
  },
  {
   "cell_type": "code",
   "execution_count": 29,
   "metadata": {},
   "outputs": [
    {
     "name": "stdout",
     "output_type": "stream",
     "text": [
      "Saving figure to file chap05-fig02.pdf\n"
     ]
    },
    {
     "data": {
      "image/png": "[encoded data removed]",
      "text/plain": [
       "<matplotlib.figure.Figure at 0x176dbbb2780>"
      ]
     },
     "metadata": {},
     "output_type": "display_data"
    }
   ],
   "source": [
    "plot(system.results.I, '-', label='No immunization')\n",
    "plot(system2.results.I, 'g--', label='60% immunization')\n",
    "\n",
    "decorate(xlabel='Time (days)',\n",
    "         ylabel='Fraction susceptible')\n",
    "\n",
    "savefig('chap05-fig02.pdf')"
   ]
  },
  {
   "cell_type": "code",
   "execution_count": 30,
   "metadata": {},
   "outputs": [
    {
     "name": "stdout",
     "output_type": "stream",
     "text": [
      "0.8 0.0\n",
      "0.817 1.190170999\n",
      "0.834 1.173340999\n",
      "0.851 1.156510999\n",
      "0.868 0.0\n",
      "0.885 1.122850999\n",
      "0.902 1.106020999\n",
      "0.919 1.089190999\n",
      "0.936 1.072360999\n",
      "0.953 0.0\n",
      "0.97 0.0\n"
     ]
    }
   ],
   "source": [
    "immunize_array = linspace(0.8, 0.97, 11)\n",
    "\n",
    "for fraction in immunize_array:\n",
    "    system = make_system(beta, gamma,omega,t_end)\n",
    "    add_immunization(system, fraction,0)\n",
    "    run_simulation(system, update1)\n",
    "    print(fraction, calc_total_infected(system))"
   ]
  },
  {
   "cell_type": "code",
   "execution_count": 31,
   "metadata": {
    "collapsed": true
   },
   "outputs": [],
   "source": [
    "def sweep_immunity(immunize_array):\n",
    "    \"\"\"Sweeps a range of values for immunity.\n",
    "    \n",
    "    immunize_array: array of fraction immunized\n",
    "    \n",
    "    returns: Sweep object\n",
    "    \"\"\"\n",
    "    sweep = SweepSeries()\n",
    "    for fraction in immunize_array:\n",
    "        system = make_system(beta, gamma,omega,t_end)\n",
    "        add_immunization(system, fraction,0)\n",
    "        run_simulation(system, update1)\n",
    "        sweep[fraction] = calc_total_infected(system)\n",
    "    return sweep\n",
    "def sweep_immunity1(immunize_array):\n",
    "    \"\"\"Sweeps a range of values for immunity.\n",
    "    \n",
    "    immunize_array: array of fraction immunized\n",
    "    \n",
    "    returns: Sweep object\n",
    "    \"\"\"\n",
    "    sweep = SweepSeries()\n",
    "    for fraction in immunize_array:\n",
    "        system = make_system(beta, gamma,omega,t_end)\n",
    "        add_immunization(system, 0,fraction)\n",
    "        run_simulation(system, update1)\n",
    "        sweep[fraction] = calc_total_infected(system)\n",
    "    return sweep\n",
    "def sweep_immunity2(immunize_array,x):\n",
    "    \"\"\"Sweeps a range of values for immunity.\n",
    "    \n",
    "    immunize_array: array of fraction immunized\n",
    "    \n",
    "    returns: Sweep object\n",
    "    \"\"\"\n",
    "    sweep = SweepSeries()\n",
    "    for fraction in immunize_array:\n",
    "        system = make_system(beta, gamma,omega,t_end)\n",
    "        if fraction + x  >1:\n",
    "            return sweep\n",
    "        add_immunization(system, fraction,x)\n",
    "        run_simulation(system, update1)\n",
    "        sweep[fraction] = calc_total_infected(system)\n",
    "    return sweep"
   ]
  },
  {
   "cell_type": "code",
   "execution_count": 32,
   "metadata": {
    "collapsed": true
   },
   "outputs": [],
   "source": [
    "immunize_array = linspace(0.1, 1, 21)\n",
    "immunize_array1 = linspace(0.1, 1, 21)\n",
    "\n",
    "\n",
    "infected_sweep = sweep_immunity(immunize_array)\n",
    "infected_sweep1= sweep_immunity1(immunize_array)\n",
    "\n"
   ]
  },
  {
   "cell_type": "code",
   "execution_count": 33,
   "metadata": {},
   "outputs": [
    {
     "ename": "NameError",
     "evalue": "name 'infected_sweep2' is not defined",
     "output_type": "error",
     "traceback": [
      "\u001b[1;31m---------------------------------------------------------------------------\u001b[0m",
      "\u001b[1;31mNameError\u001b[0m                                 Traceback (most recent call last)",
      "\u001b[1;32m<ipython-input-33-2ea777dce302>\u001b[0m in \u001b[0;36m<module>\u001b[1;34m()\u001b[0m\n\u001b[0;32m      1\u001b[0m \u001b[1;31m#plot(infected_sweep)\u001b[0m\u001b[1;33m\u001b[0m\u001b[1;33m\u001b[0m\u001b[0m\n\u001b[1;32m----> 2\u001b[1;33m \u001b[0mplot\u001b[0m\u001b[1;33m(\u001b[0m\u001b[0minfected_sweep2\u001b[0m\u001b[1;33m,\u001b[0m \u001b[0mlabel\u001b[0m\u001b[1;33m=\u001b[0m\u001b[1;34m'% immunized once(100x)'\u001b[0m\u001b[1;33m)\u001b[0m\u001b[1;33m\u001b[0m\u001b[0m\n\u001b[0m\u001b[0;32m      3\u001b[0m \u001b[0mw\u001b[0m\u001b[1;33m=\u001b[0m\u001b[0mlinspace\u001b[0m\u001b[1;33m(\u001b[0m\u001b[1;36m0\u001b[0m\u001b[1;33m,\u001b[0m\u001b[1;36m1\u001b[0m\u001b[1;33m,\u001b[0m\u001b[1;36m6\u001b[0m\u001b[1;33m)\u001b[0m\u001b[1;33m\u001b[0m\u001b[0m\n\u001b[0;32m      4\u001b[0m \u001b[1;32mfor\u001b[0m \u001b[0mx\u001b[0m \u001b[1;32min\u001b[0m \u001b[0mw\u001b[0m\u001b[1;33m:\u001b[0m\u001b[1;33m\u001b[0m\u001b[0m\n\u001b[0;32m      5\u001b[0m     \u001b[0minfected_sweep2\u001b[0m\u001b[1;33m=\u001b[0m\u001b[0msweep_immunity2\u001b[0m\u001b[1;33m(\u001b[0m\u001b[0mimmunize_array\u001b[0m\u001b[1;33m,\u001b[0m\u001b[0mx\u001b[0m\u001b[1;33m)\u001b[0m\u001b[1;33m\u001b[0m\u001b[0m\n",
      "\u001b[1;31mNameError\u001b[0m: name 'infected_sweep2' is not defined"
     ]
    }
   ],
   "source": [
    "#plot(infected_sweep)\n",
    "plot(infected_sweep2, label='% immunized once(100x)')\n",
    "w=linspace(0,1,6)\n",
    "for x in w:\n",
    "    infected_sweep2=sweep_immunity2(immunize_array,x)\n",
    "    plot(infected_sweep2, label= x)\n",
    "    \n",
    "decorate(xlabel='Fraction immunized twice',\n",
    "         ylabel='Total fraction infected',\n",
    "         title='Fraction infected vs. immunization rate',\n",
    "         legend=True)\n",
    "\n",
    "savefig('chap05-fig03.pdf')"
   ]
  },
  {
   "cell_type": "code",
   "execution_count": null,
   "metadata": {
    "collapsed": true
   },
   "outputs": [],
   "source": [
    "def sweep_immunity1(immunize_array):\n",
    "    \"\"\"Sweeps a range of values for immunity.\n",
    "    \n",
    "    immunize_array: array of fraction immunized\n",
    "    \n",
    "    returns: Sweep object\n",
    "    \"\"\"\n",
    "    sweep = SweepSeries()\n",
    "    for fraction in immunize_array:\n",
    "        system = make_system(beta, gamma,omega,t_end)\n",
    "        add_immunization(system, 0,fraction)\n",
    "        run_simulation(system, update1)\n",
    "        sweep[fraction] = calc_total_infected(system)\n",
    "    return sweep"
   ]
  },
  {
   "cell_type": "code",
   "execution_count": 34,
   "metadata": {},
   "outputs": [
    {
     "name": "stdout",
     "output_type": "stream",
     "text": [
      "Saving figure to file chap05-fig03.pdf\n"
     ]
    },
    {
     "data": {
      "image/png": "[encoded data removed]",
      "text/plain": [
       "<matplotlib.figure.Figure at 0x176dbcb0e10>"
      ]
     },
     "metadata": {},
     "output_type": "display_data"
    }
   ],
   "source": [
    "immunize_array = linspace(0.7, 1, 21)\n",
    "infected_sweep = sweep_immunity1(immunize_array)\n",
    "plot(infected_sweep)\n",
    "\n",
    "decorate(xlabel='Fraction immunized',\n",
    "         ylabel='Total fraction infected',\n",
    "         title='Fraction infected vs. immunization rate',\n",
    "         legend=False)\n",
    "\n",
    "savefig('chap05-fig03.pdf')"
   ]
  },
  {
   "cell_type": "code",
   "execution_count": 35,
   "metadata": {},
   "outputs": [
    {
     "ename": "NameError",
     "evalue": "name 'infected_sweep2' is not defined",
     "output_type": "error",
     "traceback": [
      "\u001b[1;31m---------------------------------------------------------------------------\u001b[0m",
      "\u001b[1;31mNameError\u001b[0m                                 Traceback (most recent call last)",
      "\u001b[1;32m<ipython-input-35-47b5c8648322>\u001b[0m in \u001b[0;36m<module>\u001b[1;34m()\u001b[0m\n\u001b[0;32m      1\u001b[0m \u001b[1;31m#plot(infected_sweep)\u001b[0m\u001b[1;33m\u001b[0m\u001b[1;33m\u001b[0m\u001b[0m\n\u001b[1;32m----> 2\u001b[1;33m \u001b[0mplot\u001b[0m\u001b[1;33m(\u001b[0m\u001b[0minfected_sweep2\u001b[0m\u001b[1;33m,\u001b[0m \u001b[0mlabel\u001b[0m\u001b[1;33m=\u001b[0m\u001b[1;34m'% immunized once'\u001b[0m\u001b[1;33m)\u001b[0m\u001b[1;33m\u001b[0m\u001b[0m\n\u001b[0m\u001b[0;32m      3\u001b[0m \u001b[0mw\u001b[0m\u001b[1;33m=\u001b[0m\u001b[0mlinspace\u001b[0m\u001b[1;33m(\u001b[0m\u001b[1;36m0\u001b[0m\u001b[1;33m,\u001b[0m\u001b[1;36m1\u001b[0m\u001b[1;33m,\u001b[0m\u001b[1;36m2\u001b[0m\u001b[1;33m)\u001b[0m\u001b[1;33m\u001b[0m\u001b[0m\n\u001b[0;32m      4\u001b[0m \u001b[1;32mfor\u001b[0m \u001b[0mx\u001b[0m \u001b[1;32min\u001b[0m \u001b[0mw\u001b[0m\u001b[1;33m:\u001b[0m\u001b[1;33m\u001b[0m\u001b[0m\n\u001b[0;32m      5\u001b[0m     \u001b[0minfected_sweep2\u001b[0m\u001b[1;33m=\u001b[0m\u001b[0msweep_immunity2\u001b[0m\u001b[1;33m(\u001b[0m\u001b[0mimmunize_array\u001b[0m\u001b[1;33m,\u001b[0m\u001b[0mx\u001b[0m\u001b[1;33m)\u001b[0m\u001b[1;33m\u001b[0m\u001b[0m\n",
      "\u001b[1;31mNameError\u001b[0m: name 'infected_sweep2' is not defined"
     ]
    }
   ],
   "source": [
    "#plot(infected_sweep)\n",
    "plot(infected_sweep2, label='% immunized once')\n",
    "w=linspace(0,1,2)\n",
    "for x in w:\n",
    "    infected_sweep2=sweep_immunity2(immunize_array,x)\n",
    "    plot(infected_sweep2, label= x)\n",
    "    \n",
    "decorate(xlabel='Fraction immunized Twice',\n",
    "         ylabel='Total fraction infected',\n",
    "         title='Fraction infected vs. immunization rate',\n",
    "         legend=True)\n",
    "\n",
    "savefig('chap05-fig03.pdf')"
   ]
  },
  {
   "cell_type": "code",
   "execution_count": 36,
   "metadata": {},
   "outputs": [
    {
     "ename": "NameError",
     "evalue": "name 'infected_sweep2' is not defined",
     "output_type": "error",
     "traceback": [
      "\u001b[1;31m---------------------------------------------------------------------------\u001b[0m",
      "\u001b[1;31mNameError\u001b[0m                                 Traceback (most recent call last)",
      "\u001b[1;32m<ipython-input-36-02b7708507cf>\u001b[0m in \u001b[0;36m<module>\u001b[1;34m()\u001b[0m\n\u001b[0;32m      1\u001b[0m \u001b[1;31m#plot(infected_sweep)\u001b[0m\u001b[1;33m\u001b[0m\u001b[1;33m\u001b[0m\u001b[0m\n\u001b[1;32m----> 2\u001b[1;33m \u001b[0mplot\u001b[0m\u001b[1;33m(\u001b[0m\u001b[0minfected_sweep2\u001b[0m\u001b[1;33m)\u001b[0m\u001b[1;33m\u001b[0m\u001b[0m\n\u001b[0m\u001b[0;32m      3\u001b[0m \u001b[0mw\u001b[0m\u001b[1;33m=\u001b[0m\u001b[0mlinspace\u001b[0m\u001b[1;33m(\u001b[0m\u001b[1;36m0\u001b[0m\u001b[1;33m,\u001b[0m\u001b[1;36m1\u001b[0m\u001b[1;33m,\u001b[0m\u001b[1;36m8\u001b[0m\u001b[1;33m)\u001b[0m\u001b[1;33m\u001b[0m\u001b[0m\n\u001b[0;32m      4\u001b[0m \u001b[0minfected_sweep2\u001b[0m\u001b[1;33m=\u001b[0m\u001b[0msweep_immunity1\u001b[0m\u001b[1;33m(\u001b[0m\u001b[0mw\u001b[0m\u001b[1;33m)\u001b[0m\u001b[1;33m\u001b[0m\u001b[0m\n\u001b[0;32m      5\u001b[0m \u001b[1;33m\u001b[0m\u001b[0m\n",
      "\u001b[1;31mNameError\u001b[0m: name 'infected_sweep2' is not defined"
     ]
    }
   ],
   "source": [
    "#plot(infected_sweep)\n",
    "plot(infected_sweep2)\n",
    "w=linspace(0,1,8)\n",
    "infected_sweep2=sweep_immunity1(w)\n",
    "\n",
    "decorate(xlabel='Fraction immunized once',\n",
    "         ylabel='Total fraction infected',\n",
    "         title='Fraction infected vs. immunization rate',\n",
    "         legend=True)\n",
    "\n",
    "savefig('chap05-fig03.pdf')"
   ]
  },
  {
   "cell_type": "code",
   "execution_count": 92,
   "metadata": {},
   "outputs": [
    {
     "ename": "SyntaxError",
     "evalue": "invalid syntax (<ipython-input-92-18be69dd41aa>, line 1)",
     "output_type": "error",
     "traceback": [
      "\u001b[1;36m  File \u001b[1;32m\"<ipython-input-92-18be69dd41aa>\"\u001b[1;36m, line \u001b[1;32m1\u001b[0m\n\u001b[1;33m    As you can see with just one dose of vaccination there is no level off in the fraction infected and thereby no phenomenon of heard immunity.\u001b[0m\n\u001b[1;37m         ^\u001b[0m\n\u001b[1;31mSyntaxError\u001b[0m\u001b[1;31m:\u001b[0m invalid syntax\n"
     ]
    }
   ],
   "source": [
    "As you can see with just one dose of vaccination there is no level off in the fraction infected and thereby no phenomenon of heard immunity.\n",
    "Since anti-vaccers even when they change their mind can be given only given one dose they cause permanenet damge."
   ]
  },
  {
   "cell_type": "code",
   "execution_count": 96,
   "metadata": {},
   "outputs": [
    {
     "name": "stdout",
     "output_type": "stream",
     "text": [
      "Saving figure to file chap05-fig03.pdf\n"
     ]
    },
    {
     "name": "stderr",
     "output_type": "stream",
     "text": [
      "C:\\ProgramData\\Miniconda3\\lib\\site-packages\\matplotlib\\axes\\_axes.py:545: UserWarning: No labelled objects found. Use label='...' kwarg on individual plots.\n",
      "  warnings.warn(\"No labelled objects found. \"\n"
     ]
    },
    {
     "data": {
      "image/png": "[encoded data removed]",
      "text/plain": [
       "<matplotlib.figure.Figure at 0x282cfcd1ef0>"
      ]
     },
     "metadata": {},
     "output_type": "display_data"
    }
   ],
   "source": [
    "def sweep_immunity3(immunize_array):\n",
    "    \"\"\"Sweeps a range of values for immunity.\n",
    "    \n",
    "    immunize_array: array of fraction immunized\n",
    "    \n",
    "    returns: Sweep object\n",
    "    \"\"\"\n",
    "    sweep = SweepSeries()\n",
    "    for fraction in immunize_array:\n",
    "        system = make_system(beta, gamma,omega,t_end)\n",
    "        add_immunization(system, 0.6,fraction)\n",
    "        run_simulation(system, update1)\n",
    "        sweep[fraction] = calc_total_infected(system)\n",
    "    return sweep\n",
    "\n",
    "w=linspace(0.0,0.4,4)\n",
    "infected_sweep2=sweep_immunity3(w)\n",
    "\n",
    "plot(infected_sweep2)\n",
    "    \n",
    "decorate(xlabel='Fraction immunized once',\n",
    "         ylabel='Total fraction infected',\n",
    "         title='Fraction infected vs. immunization rate',\n",
    "         legend=True)\n",
    "\n",
    "savefig('chap05-fig03.pdf')"
   ]
  },
  {
   "cell_type": "code",
   "execution_count": null,
   "metadata": {
    "collapsed": true
   },
   "outputs": [],
   "source": []
  }
 ],
 "metadata": {
  "kernelspec": {
   "display_name": "Python 3",
   "language": "python",
   "name": "python3"
  },
  "language_info": {
   "codemirror_mode": {
    "name": "ipython",
    "version": 3
   },
   "file_extension": ".py",
   "mimetype": "text/x-python",
   "name": "python",
   "nbconvert_exporter": "python",
   "pygments_lexer": "ipython3",
   "version": "3.6.1"
  }
 },
 "nbformat": 4,
 "nbformat_minor": 2
}
